{
  "nbformat": 4,
  "nbformat_minor": 0,
  "metadata": {
    "colab": {
      "provenance": []
    },
    "kernelspec": {
      "name": "python3",
      "display_name": "Python 3"
    },
    "language_info": {
      "name": "python"
    }
  },
  "cells": [
    {
      "cell_type": "markdown",
      "source": [
        "**Nama : Yohan Permana**"
      ],
      "metadata": {
        "id": "k5iaAqQ5vEth"
      }
    },
    {
      "cell_type": "code",
      "execution_count": 1,
      "metadata": {
        "id": "p2bTCIYBhTnH"
      },
      "outputs": [],
      "source": [
        "!pip install -q kaggle\n",
        "#digunakan untuk menginstal paket Python bernama \"kaggle\" menggunakan perintah pip dari dalam lingkungan Jupyter Notebook atau notebook berbasis Python lainnya.\n"
      ]
    },
    {
      "cell_type": "code",
      "source": [
        "# digunakan untuk mengunggah file\n",
        "from google.colab import files\n",
        "files.upload()"
      ],
      "metadata": {
        "colab": {
          "base_uri": "https://localhost:8080/",
          "height": 88
        },
        "id": "V3OLqHsBBaF_",
        "outputId": "8346dde2-b723-4079-f1eb-15f0c79d84a1"
      },
      "execution_count": 2,
      "outputs": [
        {
          "output_type": "display_data",
          "data": {
            "text/plain": [
              "<IPython.core.display.HTML object>"
            ],
            "text/html": [
              "\n",
              "     <input type=\"file\" id=\"files-f2f7d7f5-b36b-4621-8f43-618f712fa29f\" name=\"files[]\" multiple disabled\n",
              "        style=\"border:none\" />\n",
              "     <output id=\"result-f2f7d7f5-b36b-4621-8f43-618f712fa29f\">\n",
              "      Upload widget is only available when the cell has been executed in the\n",
              "      current browser session. Please rerun this cell to enable.\n",
              "      </output>\n",
              "      <script>// Copyright 2017 Google LLC\n",
              "//\n",
              "// Licensed under the Apache License, Version 2.0 (the \"License\");\n",
              "// you may not use this file except in compliance with the License.\n",
              "// You may obtain a copy of the License at\n",
              "//\n",
              "//      http://www.apache.org/licenses/LICENSE-2.0\n",
              "//\n",
              "// Unless required by applicable law or agreed to in writing, software\n",
              "// distributed under the License is distributed on an \"AS IS\" BASIS,\n",
              "// WITHOUT WARRANTIES OR CONDITIONS OF ANY KIND, either express or implied.\n",
              "// See the License for the specific language governing permissions and\n",
              "// limitations under the License.\n",
              "\n",
              "/**\n",
              " * @fileoverview Helpers for google.colab Python module.\n",
              " */\n",
              "(function(scope) {\n",
              "function span(text, styleAttributes = {}) {\n",
              "  const element = document.createElement('span');\n",
              "  element.textContent = text;\n",
              "  for (const key of Object.keys(styleAttributes)) {\n",
              "    element.style[key] = styleAttributes[key];\n",
              "  }\n",
              "  return element;\n",
              "}\n",
              "\n",
              "// Max number of bytes which will be uploaded at a time.\n",
              "const MAX_PAYLOAD_SIZE = 100 * 1024;\n",
              "\n",
              "function _uploadFiles(inputId, outputId) {\n",
              "  const steps = uploadFilesStep(inputId, outputId);\n",
              "  const outputElement = document.getElementById(outputId);\n",
              "  // Cache steps on the outputElement to make it available for the next call\n",
              "  // to uploadFilesContinue from Python.\n",
              "  outputElement.steps = steps;\n",
              "\n",
              "  return _uploadFilesContinue(outputId);\n",
              "}\n",
              "\n",
              "// This is roughly an async generator (not supported in the browser yet),\n",
              "// where there are multiple asynchronous steps and the Python side is going\n",
              "// to poll for completion of each step.\n",
              "// This uses a Promise to block the python side on completion of each step,\n",
              "// then passes the result of the previous step as the input to the next step.\n",
              "function _uploadFilesContinue(outputId) {\n",
              "  const outputElement = document.getElementById(outputId);\n",
              "  const steps = outputElement.steps;\n",
              "\n",
              "  const next = steps.next(outputElement.lastPromiseValue);\n",
              "  return Promise.resolve(next.value.promise).then((value) => {\n",
              "    // Cache the last promise value to make it available to the next\n",
              "    // step of the generator.\n",
              "    outputElement.lastPromiseValue = value;\n",
              "    return next.value.response;\n",
              "  });\n",
              "}\n",
              "\n",
              "/**\n",
              " * Generator function which is called between each async step of the upload\n",
              " * process.\n",
              " * @param {string} inputId Element ID of the input file picker element.\n",
              " * @param {string} outputId Element ID of the output display.\n",
              " * @return {!Iterable<!Object>} Iterable of next steps.\n",
              " */\n",
              "function* uploadFilesStep(inputId, outputId) {\n",
              "  const inputElement = document.getElementById(inputId);\n",
              "  inputElement.disabled = false;\n",
              "\n",
              "  const outputElement = document.getElementById(outputId);\n",
              "  outputElement.innerHTML = '';\n",
              "\n",
              "  const pickedPromise = new Promise((resolve) => {\n",
              "    inputElement.addEventListener('change', (e) => {\n",
              "      resolve(e.target.files);\n",
              "    });\n",
              "  });\n",
              "\n",
              "  const cancel = document.createElement('button');\n",
              "  inputElement.parentElement.appendChild(cancel);\n",
              "  cancel.textContent = 'Cancel upload';\n",
              "  const cancelPromise = new Promise((resolve) => {\n",
              "    cancel.onclick = () => {\n",
              "      resolve(null);\n",
              "    };\n",
              "  });\n",
              "\n",
              "  // Wait for the user to pick the files.\n",
              "  const files = yield {\n",
              "    promise: Promise.race([pickedPromise, cancelPromise]),\n",
              "    response: {\n",
              "      action: 'starting',\n",
              "    }\n",
              "  };\n",
              "\n",
              "  cancel.remove();\n",
              "\n",
              "  // Disable the input element since further picks are not allowed.\n",
              "  inputElement.disabled = true;\n",
              "\n",
              "  if (!files) {\n",
              "    return {\n",
              "      response: {\n",
              "        action: 'complete',\n",
              "      }\n",
              "    };\n",
              "  }\n",
              "\n",
              "  for (const file of files) {\n",
              "    const li = document.createElement('li');\n",
              "    li.append(span(file.name, {fontWeight: 'bold'}));\n",
              "    li.append(span(\n",
              "        `(${file.type || 'n/a'}) - ${file.size} bytes, ` +\n",
              "        `last modified: ${\n",
              "            file.lastModifiedDate ? file.lastModifiedDate.toLocaleDateString() :\n",
              "                                    'n/a'} - `));\n",
              "    const percent = span('0% done');\n",
              "    li.appendChild(percent);\n",
              "\n",
              "    outputElement.appendChild(li);\n",
              "\n",
              "    const fileDataPromise = new Promise((resolve) => {\n",
              "      const reader = new FileReader();\n",
              "      reader.onload = (e) => {\n",
              "        resolve(e.target.result);\n",
              "      };\n",
              "      reader.readAsArrayBuffer(file);\n",
              "    });\n",
              "    // Wait for the data to be ready.\n",
              "    let fileData = yield {\n",
              "      promise: fileDataPromise,\n",
              "      response: {\n",
              "        action: 'continue',\n",
              "      }\n",
              "    };\n",
              "\n",
              "    // Use a chunked sending to avoid message size limits. See b/62115660.\n",
              "    let position = 0;\n",
              "    do {\n",
              "      const length = Math.min(fileData.byteLength - position, MAX_PAYLOAD_SIZE);\n",
              "      const chunk = new Uint8Array(fileData, position, length);\n",
              "      position += length;\n",
              "\n",
              "      const base64 = btoa(String.fromCharCode.apply(null, chunk));\n",
              "      yield {\n",
              "        response: {\n",
              "          action: 'append',\n",
              "          file: file.name,\n",
              "          data: base64,\n",
              "        },\n",
              "      };\n",
              "\n",
              "      let percentDone = fileData.byteLength === 0 ?\n",
              "          100 :\n",
              "          Math.round((position / fileData.byteLength) * 100);\n",
              "      percent.textContent = `${percentDone}% done`;\n",
              "\n",
              "    } while (position < fileData.byteLength);\n",
              "  }\n",
              "\n",
              "  // All done.\n",
              "  yield {\n",
              "    response: {\n",
              "      action: 'complete',\n",
              "    }\n",
              "  };\n",
              "}\n",
              "\n",
              "scope.google = scope.google || {};\n",
              "scope.google.colab = scope.google.colab || {};\n",
              "scope.google.colab._files = {\n",
              "  _uploadFiles,\n",
              "  _uploadFilesContinue,\n",
              "};\n",
              "})(self);\n",
              "</script> "
            ]
          },
          "metadata": {}
        },
        {
          "output_type": "stream",
          "name": "stdout",
          "text": [
            "Saving kaggle.json to kaggle.json\n"
          ]
        },
        {
          "output_type": "execute_result",
          "data": {
            "text/plain": [
              "{'kaggle.json': b'{\"username\":\"yohanpermanautm\",\"key\":\"96b272946aaf5c7a832385bc9086a36e\"}'}"
            ]
          },
          "metadata": {},
          "execution_count": 2
        }
      ]
    },
    {
      "cell_type": "code",
      "source": [
        "#digunakan untuk membuat dan mengonfigurasi direktori .kaggle serta mengelola file kaggle.json\n",
        "!mkdir -p ~/.kaggle\n",
        "!cp kaggle.json ~/.kaggle/\n",
        "!chmod 600 ~/.kaggle/kaggle.json\n",
        "!ls ~/.kaggle"
      ],
      "metadata": {
        "colab": {
          "base_uri": "https://localhost:8080/"
        },
        "id": "i3fjqrpDBjWc",
        "outputId": "e522c1d9-2c5b-4a15-8cad-e9e78844bb19"
      },
      "execution_count": 3,
      "outputs": [
        {
          "output_type": "stream",
          "name": "stdout",
          "text": [
            "kaggle.json\n"
          ]
        }
      ]
    },
    {
      "cell_type": "code",
      "source": [
        "!kaggle datasets list"
      ],
      "metadata": {
        "colab": {
          "base_uri": "https://localhost:8080/"
        },
        "id": "iNXd7eKMBnLz",
        "outputId": "8d1ae348-3428-4349-cf68-3b65d44645bb"
      },
      "execution_count": 4,
      "outputs": [
        {
          "output_type": "stream",
          "name": "stdout",
          "text": [
            "ref                                                         title                                        size  lastUpdated          downloadCount  voteCount  usabilityRating  \n",
            "----------------------------------------------------------  ------------------------------------------  -----  -------------------  -------------  ---------  ---------------  \n",
            "hummaamqaasim/jobs-in-data                                  Jobs and Salaries in Data Science            76KB  2023-12-25 20:03:32           5632        101  1.0              \n",
            "thedrcat/daigt-v2-train-dataset                             DAIGT V2 Train Dataset                       29MB  2023-11-16 01:38:36           4168        325  1.0              \n",
            "jacksondivakarr/car-crash-dataset                           Car Crash Dataset                             4MB  2024-01-08 13:44:08           1706         38  1.0              \n",
            "nelgiriyewithana/new-york-housing-market                    New York Housing Market                     271KB  2024-01-06 16:41:00           1573         60  1.0              \n",
            "nextmillionaire/car-accident-dataset                        Car Accident Dataset                          7MB  2024-01-10 23:04:21            803         29  0.88235295       \n",
            "nelgiriyewithana/apple-quality                              Apple Quality                               170KB  2024-01-11 14:31:07            704         33  1.0              \n",
            "chandanchoudhury/world-population-dataset                   World Population Dataset                     77KB  2024-01-06 05:26:23            870         28  1.0              \n",
            "sazidthe1/world-population-data                             World Population Data                        14KB  2024-01-01 17:42:09           1813         37  1.0              \n",
            "thedrcat/daigt-v3-train-dataset                             daigt-v3-train-dataset                       83MB  2023-12-28 04:36:42            479         80  1.0              \n",
            "vishakhdapat/price-of-used-toyota-corolla-cars              Price of Used Toyota Corolla Cars            30KB  2024-01-08 06:06:37           1393         34  0.9411765        \n",
            "rafsunahmad/plane-price-prediction                          Airplane Price Prediction                    17KB  2023-12-23 17:47:50           1226         24  1.0              \n",
            "sameerprogrammer/college-placement                          College Placement Predictor Dataset          741B  2023-12-28 15:53:17           1413         34  0.9411765        \n",
            "starblasters8/human-vs-llm-text-corpus                      Human vs. LLM Text Corpus                     2GB  2024-01-10 18:09:13            205         59  1.0              \n",
            "kashishparmar02/social-media-sentiments-analysis-dataset    Social Media Sentiments Analysis Dataset 📊   51KB  2024-01-01 08:14:49           1403         33  1.0              \n",
            "arnoldkakas/real-estate-dataset                             Real Estate Dataset                         220KB  2024-01-01 13:12:19            671         22  1.0              \n",
            "marouandaghmoumi/dropout-and-success-student-data-analysis  Dropout and Success: Student Data Analysis   87KB  2023-12-31 15:44:56           2535         57  1.0              \n",
            "imtkaggleteam/pandemics-in-world                            Pandemics in World                            1MB  2024-01-09 11:11:56            536         40  1.0              \n",
            "ayaz11/used-car-price-prediction                            Used Car Price Prediction                    39KB  2023-12-31 11:57:31            623         27  1.0              \n",
            "dansbecker/melbourne-housing-snapshot                       Melbourne Housing Snapshot                  451KB  2018-06-05 12:52:24         135458       1415  0.7058824        \n",
            "imtkaggleteam/co-and-greenhouse-gas-emissions               CO₂ and Greenhouse Gas Emissions            399KB  2024-01-09 10:58:13            546         45  1.0              \n"
          ]
        }
      ]
    },
    {
      "cell_type": "code",
      "source": [
        "#Perintah ini digunakan untuk mengunduh dataset dengan nama delhi-weather-data dari Kaggle menggunakan perintah kaggle datasets download.\n",
        "!kaggle datasets download -d mahirkukreja/delhi-weather-data"
      ],
      "metadata": {
        "colab": {
          "base_uri": "https://localhost:8080/"
        },
        "id": "XM1LFfpHBx4m",
        "outputId": "958aa587-c9d1-45de-8375-43bf07066819"
      },
      "execution_count": 5,
      "outputs": [
        {
          "output_type": "stream",
          "name": "stdout",
          "text": [
            "Downloading delhi-weather-data.zip to /content\n",
            "\r  0% 0.00/1.00M [00:00<?, ?B/s]\n",
            "\r100% 1.00M/1.00M [00:00<00:00, 108MB/s]\n"
          ]
        }
      ]
    },
    {
      "cell_type": "code",
      "source": [
        "# digunakan untuk membuat direktori baru bernama bbcnewsarchivedelhi-weather-data, mengekstrak isi dari file delhi-weather-data.zip ke dalam direktori tersebut, dan menampilkan daftar file yang telah diekstrak.\n",
        "!mkdir delhi-weather-data\n",
        "!unzip delhi-weather-data.zip -d delhi-weather-data\n",
        "!ls delhi-weather-data"
      ],
      "metadata": {
        "colab": {
          "base_uri": "https://localhost:8080/"
        },
        "id": "J2LOZ1u8B12I",
        "outputId": "1f88ee44-8a9e-42f5-fe05-7332e8797427"
      },
      "execution_count": 6,
      "outputs": [
        {
          "output_type": "stream",
          "name": "stdout",
          "text": [
            "Archive:  delhi-weather-data.zip\n",
            "  inflating: delhi-weather-data/testset.csv  \n",
            "testset.csv\n"
          ]
        }
      ]
    },
    {
      "cell_type": "code",
      "source": [
        "import pandas as pd\n",
        "\n",
        "# Baca file CSV ke dalam DataFrame\n",
        "df = pd.read_csv('delhi-weather-data/testset.csv')\n",
        "\n",
        "# Tampilkan 10 baris pertama dengan beberapa gaya\n",
        "styled_df = df.head(10).style.set_properties(**{'background-color': 'lightyellow',\n",
        "                                                'color': 'black',\n",
        "                                                'border': '1px solid black'})\n",
        "\n",
        "# Menampilkan DataFrame yang ditata\n",
        "styled_df\n"
      ],
      "metadata": {
        "colab": {
          "base_uri": "https://localhost:8080/",
          "height": 374
        },
        "id": "6fPmz7WoCFt7",
        "outputId": "85aa512a-1d1a-4fc3-a41c-bd5b361f176e"
      },
      "execution_count": 7,
      "outputs": [
        {
          "output_type": "execute_result",
          "data": {
            "text/plain": [
              "<pandas.io.formats.style.Styler at 0x785e5bf79930>"
            ],
            "text/html": [
              "<style type=\"text/css\">\n",
              "#T_5373b_row0_col0, #T_5373b_row0_col1, #T_5373b_row0_col2, #T_5373b_row0_col3, #T_5373b_row0_col4, #T_5373b_row0_col5, #T_5373b_row0_col6, #T_5373b_row0_col7, #T_5373b_row0_col8, #T_5373b_row0_col9, #T_5373b_row0_col10, #T_5373b_row0_col11, #T_5373b_row0_col12, #T_5373b_row0_col13, #T_5373b_row0_col14, #T_5373b_row0_col15, #T_5373b_row0_col16, #T_5373b_row0_col17, #T_5373b_row0_col18, #T_5373b_row0_col19, #T_5373b_row1_col0, #T_5373b_row1_col1, #T_5373b_row1_col2, #T_5373b_row1_col3, #T_5373b_row1_col4, #T_5373b_row1_col5, #T_5373b_row1_col6, #T_5373b_row1_col7, #T_5373b_row1_col8, #T_5373b_row1_col9, #T_5373b_row1_col10, #T_5373b_row1_col11, #T_5373b_row1_col12, #T_5373b_row1_col13, #T_5373b_row1_col14, #T_5373b_row1_col15, #T_5373b_row1_col16, #T_5373b_row1_col17, #T_5373b_row1_col18, #T_5373b_row1_col19, #T_5373b_row2_col0, #T_5373b_row2_col1, #T_5373b_row2_col2, #T_5373b_row2_col3, #T_5373b_row2_col4, #T_5373b_row2_col5, #T_5373b_row2_col6, #T_5373b_row2_col7, #T_5373b_row2_col8, #T_5373b_row2_col9, #T_5373b_row2_col10, #T_5373b_row2_col11, #T_5373b_row2_col12, #T_5373b_row2_col13, #T_5373b_row2_col14, #T_5373b_row2_col15, #T_5373b_row2_col16, #T_5373b_row2_col17, #T_5373b_row2_col18, #T_5373b_row2_col19, #T_5373b_row3_col0, #T_5373b_row3_col1, #T_5373b_row3_col2, #T_5373b_row3_col3, #T_5373b_row3_col4, #T_5373b_row3_col5, #T_5373b_row3_col6, #T_5373b_row3_col7, #T_5373b_row3_col8, #T_5373b_row3_col9, #T_5373b_row3_col10, #T_5373b_row3_col11, #T_5373b_row3_col12, #T_5373b_row3_col13, #T_5373b_row3_col14, #T_5373b_row3_col15, #T_5373b_row3_col16, #T_5373b_row3_col17, #T_5373b_row3_col18, #T_5373b_row3_col19, #T_5373b_row4_col0, #T_5373b_row4_col1, #T_5373b_row4_col2, #T_5373b_row4_col3, #T_5373b_row4_col4, #T_5373b_row4_col5, #T_5373b_row4_col6, #T_5373b_row4_col7, #T_5373b_row4_col8, #T_5373b_row4_col9, #T_5373b_row4_col10, #T_5373b_row4_col11, #T_5373b_row4_col12, #T_5373b_row4_col13, #T_5373b_row4_col14, #T_5373b_row4_col15, #T_5373b_row4_col16, #T_5373b_row4_col17, #T_5373b_row4_col18, #T_5373b_row4_col19, #T_5373b_row5_col0, #T_5373b_row5_col1, #T_5373b_row5_col2, #T_5373b_row5_col3, #T_5373b_row5_col4, #T_5373b_row5_col5, #T_5373b_row5_col6, #T_5373b_row5_col7, #T_5373b_row5_col8, #T_5373b_row5_col9, #T_5373b_row5_col10, #T_5373b_row5_col11, #T_5373b_row5_col12, #T_5373b_row5_col13, #T_5373b_row5_col14, #T_5373b_row5_col15, #T_5373b_row5_col16, #T_5373b_row5_col17, #T_5373b_row5_col18, #T_5373b_row5_col19, #T_5373b_row6_col0, #T_5373b_row6_col1, #T_5373b_row6_col2, #T_5373b_row6_col3, #T_5373b_row6_col4, #T_5373b_row6_col5, #T_5373b_row6_col6, #T_5373b_row6_col7, #T_5373b_row6_col8, #T_5373b_row6_col9, #T_5373b_row6_col10, #T_5373b_row6_col11, #T_5373b_row6_col12, #T_5373b_row6_col13, #T_5373b_row6_col14, #T_5373b_row6_col15, #T_5373b_row6_col16, #T_5373b_row6_col17, #T_5373b_row6_col18, #T_5373b_row6_col19, #T_5373b_row7_col0, #T_5373b_row7_col1, #T_5373b_row7_col2, #T_5373b_row7_col3, #T_5373b_row7_col4, #T_5373b_row7_col5, #T_5373b_row7_col6, #T_5373b_row7_col7, #T_5373b_row7_col8, #T_5373b_row7_col9, #T_5373b_row7_col10, #T_5373b_row7_col11, #T_5373b_row7_col12, #T_5373b_row7_col13, #T_5373b_row7_col14, #T_5373b_row7_col15, #T_5373b_row7_col16, #T_5373b_row7_col17, #T_5373b_row7_col18, #T_5373b_row7_col19, #T_5373b_row8_col0, #T_5373b_row8_col1, #T_5373b_row8_col2, #T_5373b_row8_col3, #T_5373b_row8_col4, #T_5373b_row8_col5, #T_5373b_row8_col6, #T_5373b_row8_col7, #T_5373b_row8_col8, #T_5373b_row8_col9, #T_5373b_row8_col10, #T_5373b_row8_col11, #T_5373b_row8_col12, #T_5373b_row8_col13, #T_5373b_row8_col14, #T_5373b_row8_col15, #T_5373b_row8_col16, #T_5373b_row8_col17, #T_5373b_row8_col18, #T_5373b_row8_col19, #T_5373b_row9_col0, #T_5373b_row9_col1, #T_5373b_row9_col2, #T_5373b_row9_col3, #T_5373b_row9_col4, #T_5373b_row9_col5, #T_5373b_row9_col6, #T_5373b_row9_col7, #T_5373b_row9_col8, #T_5373b_row9_col9, #T_5373b_row9_col10, #T_5373b_row9_col11, #T_5373b_row9_col12, #T_5373b_row9_col13, #T_5373b_row9_col14, #T_5373b_row9_col15, #T_5373b_row9_col16, #T_5373b_row9_col17, #T_5373b_row9_col18, #T_5373b_row9_col19 {\n",
              "  background-color: lightyellow;\n",
              "  color: black;\n",
              "  border: 1px solid black;\n",
              "}\n",
              "</style>\n",
              "<table id=\"T_5373b\" class=\"dataframe\">\n",
              "  <thead>\n",
              "    <tr>\n",
              "      <th class=\"blank level0\" >&nbsp;</th>\n",
              "      <th id=\"T_5373b_level0_col0\" class=\"col_heading level0 col0\" >datetime_utc</th>\n",
              "      <th id=\"T_5373b_level0_col1\" class=\"col_heading level0 col1\" > _conds</th>\n",
              "      <th id=\"T_5373b_level0_col2\" class=\"col_heading level0 col2\" > _dewptm</th>\n",
              "      <th id=\"T_5373b_level0_col3\" class=\"col_heading level0 col3\" > _fog</th>\n",
              "      <th id=\"T_5373b_level0_col4\" class=\"col_heading level0 col4\" > _hail</th>\n",
              "      <th id=\"T_5373b_level0_col5\" class=\"col_heading level0 col5\" > _heatindexm</th>\n",
              "      <th id=\"T_5373b_level0_col6\" class=\"col_heading level0 col6\" > _hum</th>\n",
              "      <th id=\"T_5373b_level0_col7\" class=\"col_heading level0 col7\" > _precipm</th>\n",
              "      <th id=\"T_5373b_level0_col8\" class=\"col_heading level0 col8\" > _pressurem</th>\n",
              "      <th id=\"T_5373b_level0_col9\" class=\"col_heading level0 col9\" > _rain</th>\n",
              "      <th id=\"T_5373b_level0_col10\" class=\"col_heading level0 col10\" > _snow</th>\n",
              "      <th id=\"T_5373b_level0_col11\" class=\"col_heading level0 col11\" > _tempm</th>\n",
              "      <th id=\"T_5373b_level0_col12\" class=\"col_heading level0 col12\" > _thunder</th>\n",
              "      <th id=\"T_5373b_level0_col13\" class=\"col_heading level0 col13\" > _tornado</th>\n",
              "      <th id=\"T_5373b_level0_col14\" class=\"col_heading level0 col14\" > _vism</th>\n",
              "      <th id=\"T_5373b_level0_col15\" class=\"col_heading level0 col15\" > _wdird</th>\n",
              "      <th id=\"T_5373b_level0_col16\" class=\"col_heading level0 col16\" > _wdire</th>\n",
              "      <th id=\"T_5373b_level0_col17\" class=\"col_heading level0 col17\" > _wgustm</th>\n",
              "      <th id=\"T_5373b_level0_col18\" class=\"col_heading level0 col18\" > _windchillm</th>\n",
              "      <th id=\"T_5373b_level0_col19\" class=\"col_heading level0 col19\" > _wspdm</th>\n",
              "    </tr>\n",
              "  </thead>\n",
              "  <tbody>\n",
              "    <tr>\n",
              "      <th id=\"T_5373b_level0_row0\" class=\"row_heading level0 row0\" >0</th>\n",
              "      <td id=\"T_5373b_row0_col0\" class=\"data row0 col0\" >19961101-11:00</td>\n",
              "      <td id=\"T_5373b_row0_col1\" class=\"data row0 col1\" >Smoke</td>\n",
              "      <td id=\"T_5373b_row0_col2\" class=\"data row0 col2\" >9.000000</td>\n",
              "      <td id=\"T_5373b_row0_col3\" class=\"data row0 col3\" >0</td>\n",
              "      <td id=\"T_5373b_row0_col4\" class=\"data row0 col4\" >0</td>\n",
              "      <td id=\"T_5373b_row0_col5\" class=\"data row0 col5\" >nan</td>\n",
              "      <td id=\"T_5373b_row0_col6\" class=\"data row0 col6\" >27.000000</td>\n",
              "      <td id=\"T_5373b_row0_col7\" class=\"data row0 col7\" >nan</td>\n",
              "      <td id=\"T_5373b_row0_col8\" class=\"data row0 col8\" >1010.000000</td>\n",
              "      <td id=\"T_5373b_row0_col9\" class=\"data row0 col9\" >0</td>\n",
              "      <td id=\"T_5373b_row0_col10\" class=\"data row0 col10\" >0</td>\n",
              "      <td id=\"T_5373b_row0_col11\" class=\"data row0 col11\" >30.000000</td>\n",
              "      <td id=\"T_5373b_row0_col12\" class=\"data row0 col12\" >0</td>\n",
              "      <td id=\"T_5373b_row0_col13\" class=\"data row0 col13\" >0</td>\n",
              "      <td id=\"T_5373b_row0_col14\" class=\"data row0 col14\" >5.000000</td>\n",
              "      <td id=\"T_5373b_row0_col15\" class=\"data row0 col15\" >280.000000</td>\n",
              "      <td id=\"T_5373b_row0_col16\" class=\"data row0 col16\" >West</td>\n",
              "      <td id=\"T_5373b_row0_col17\" class=\"data row0 col17\" >nan</td>\n",
              "      <td id=\"T_5373b_row0_col18\" class=\"data row0 col18\" >nan</td>\n",
              "      <td id=\"T_5373b_row0_col19\" class=\"data row0 col19\" >7.400000</td>\n",
              "    </tr>\n",
              "    <tr>\n",
              "      <th id=\"T_5373b_level0_row1\" class=\"row_heading level0 row1\" >1</th>\n",
              "      <td id=\"T_5373b_row1_col0\" class=\"data row1 col0\" >19961101-12:00</td>\n",
              "      <td id=\"T_5373b_row1_col1\" class=\"data row1 col1\" >Smoke</td>\n",
              "      <td id=\"T_5373b_row1_col2\" class=\"data row1 col2\" >10.000000</td>\n",
              "      <td id=\"T_5373b_row1_col3\" class=\"data row1 col3\" >0</td>\n",
              "      <td id=\"T_5373b_row1_col4\" class=\"data row1 col4\" >0</td>\n",
              "      <td id=\"T_5373b_row1_col5\" class=\"data row1 col5\" >nan</td>\n",
              "      <td id=\"T_5373b_row1_col6\" class=\"data row1 col6\" >32.000000</td>\n",
              "      <td id=\"T_5373b_row1_col7\" class=\"data row1 col7\" >nan</td>\n",
              "      <td id=\"T_5373b_row1_col8\" class=\"data row1 col8\" >-9999.000000</td>\n",
              "      <td id=\"T_5373b_row1_col9\" class=\"data row1 col9\" >0</td>\n",
              "      <td id=\"T_5373b_row1_col10\" class=\"data row1 col10\" >0</td>\n",
              "      <td id=\"T_5373b_row1_col11\" class=\"data row1 col11\" >28.000000</td>\n",
              "      <td id=\"T_5373b_row1_col12\" class=\"data row1 col12\" >0</td>\n",
              "      <td id=\"T_5373b_row1_col13\" class=\"data row1 col13\" >0</td>\n",
              "      <td id=\"T_5373b_row1_col14\" class=\"data row1 col14\" >nan</td>\n",
              "      <td id=\"T_5373b_row1_col15\" class=\"data row1 col15\" >0.000000</td>\n",
              "      <td id=\"T_5373b_row1_col16\" class=\"data row1 col16\" >North</td>\n",
              "      <td id=\"T_5373b_row1_col17\" class=\"data row1 col17\" >nan</td>\n",
              "      <td id=\"T_5373b_row1_col18\" class=\"data row1 col18\" >nan</td>\n",
              "      <td id=\"T_5373b_row1_col19\" class=\"data row1 col19\" >nan</td>\n",
              "    </tr>\n",
              "    <tr>\n",
              "      <th id=\"T_5373b_level0_row2\" class=\"row_heading level0 row2\" >2</th>\n",
              "      <td id=\"T_5373b_row2_col0\" class=\"data row2 col0\" >19961101-13:00</td>\n",
              "      <td id=\"T_5373b_row2_col1\" class=\"data row2 col1\" >Smoke</td>\n",
              "      <td id=\"T_5373b_row2_col2\" class=\"data row2 col2\" >11.000000</td>\n",
              "      <td id=\"T_5373b_row2_col3\" class=\"data row2 col3\" >0</td>\n",
              "      <td id=\"T_5373b_row2_col4\" class=\"data row2 col4\" >0</td>\n",
              "      <td id=\"T_5373b_row2_col5\" class=\"data row2 col5\" >nan</td>\n",
              "      <td id=\"T_5373b_row2_col6\" class=\"data row2 col6\" >44.000000</td>\n",
              "      <td id=\"T_5373b_row2_col7\" class=\"data row2 col7\" >nan</td>\n",
              "      <td id=\"T_5373b_row2_col8\" class=\"data row2 col8\" >-9999.000000</td>\n",
              "      <td id=\"T_5373b_row2_col9\" class=\"data row2 col9\" >0</td>\n",
              "      <td id=\"T_5373b_row2_col10\" class=\"data row2 col10\" >0</td>\n",
              "      <td id=\"T_5373b_row2_col11\" class=\"data row2 col11\" >24.000000</td>\n",
              "      <td id=\"T_5373b_row2_col12\" class=\"data row2 col12\" >0</td>\n",
              "      <td id=\"T_5373b_row2_col13\" class=\"data row2 col13\" >0</td>\n",
              "      <td id=\"T_5373b_row2_col14\" class=\"data row2 col14\" >nan</td>\n",
              "      <td id=\"T_5373b_row2_col15\" class=\"data row2 col15\" >0.000000</td>\n",
              "      <td id=\"T_5373b_row2_col16\" class=\"data row2 col16\" >North</td>\n",
              "      <td id=\"T_5373b_row2_col17\" class=\"data row2 col17\" >nan</td>\n",
              "      <td id=\"T_5373b_row2_col18\" class=\"data row2 col18\" >nan</td>\n",
              "      <td id=\"T_5373b_row2_col19\" class=\"data row2 col19\" >nan</td>\n",
              "    </tr>\n",
              "    <tr>\n",
              "      <th id=\"T_5373b_level0_row3\" class=\"row_heading level0 row3\" >3</th>\n",
              "      <td id=\"T_5373b_row3_col0\" class=\"data row3 col0\" >19961101-14:00</td>\n",
              "      <td id=\"T_5373b_row3_col1\" class=\"data row3 col1\" >Smoke</td>\n",
              "      <td id=\"T_5373b_row3_col2\" class=\"data row3 col2\" >10.000000</td>\n",
              "      <td id=\"T_5373b_row3_col3\" class=\"data row3 col3\" >0</td>\n",
              "      <td id=\"T_5373b_row3_col4\" class=\"data row3 col4\" >0</td>\n",
              "      <td id=\"T_5373b_row3_col5\" class=\"data row3 col5\" >nan</td>\n",
              "      <td id=\"T_5373b_row3_col6\" class=\"data row3 col6\" >41.000000</td>\n",
              "      <td id=\"T_5373b_row3_col7\" class=\"data row3 col7\" >nan</td>\n",
              "      <td id=\"T_5373b_row3_col8\" class=\"data row3 col8\" >1010.000000</td>\n",
              "      <td id=\"T_5373b_row3_col9\" class=\"data row3 col9\" >0</td>\n",
              "      <td id=\"T_5373b_row3_col10\" class=\"data row3 col10\" >0</td>\n",
              "      <td id=\"T_5373b_row3_col11\" class=\"data row3 col11\" >24.000000</td>\n",
              "      <td id=\"T_5373b_row3_col12\" class=\"data row3 col12\" >0</td>\n",
              "      <td id=\"T_5373b_row3_col13\" class=\"data row3 col13\" >0</td>\n",
              "      <td id=\"T_5373b_row3_col14\" class=\"data row3 col14\" >2.000000</td>\n",
              "      <td id=\"T_5373b_row3_col15\" class=\"data row3 col15\" >0.000000</td>\n",
              "      <td id=\"T_5373b_row3_col16\" class=\"data row3 col16\" >North</td>\n",
              "      <td id=\"T_5373b_row3_col17\" class=\"data row3 col17\" >nan</td>\n",
              "      <td id=\"T_5373b_row3_col18\" class=\"data row3 col18\" >nan</td>\n",
              "      <td id=\"T_5373b_row3_col19\" class=\"data row3 col19\" >nan</td>\n",
              "    </tr>\n",
              "    <tr>\n",
              "      <th id=\"T_5373b_level0_row4\" class=\"row_heading level0 row4\" >4</th>\n",
              "      <td id=\"T_5373b_row4_col0\" class=\"data row4 col0\" >19961101-16:00</td>\n",
              "      <td id=\"T_5373b_row4_col1\" class=\"data row4 col1\" >Smoke</td>\n",
              "      <td id=\"T_5373b_row4_col2\" class=\"data row4 col2\" >11.000000</td>\n",
              "      <td id=\"T_5373b_row4_col3\" class=\"data row4 col3\" >0</td>\n",
              "      <td id=\"T_5373b_row4_col4\" class=\"data row4 col4\" >0</td>\n",
              "      <td id=\"T_5373b_row4_col5\" class=\"data row4 col5\" >nan</td>\n",
              "      <td id=\"T_5373b_row4_col6\" class=\"data row4 col6\" >47.000000</td>\n",
              "      <td id=\"T_5373b_row4_col7\" class=\"data row4 col7\" >nan</td>\n",
              "      <td id=\"T_5373b_row4_col8\" class=\"data row4 col8\" >1011.000000</td>\n",
              "      <td id=\"T_5373b_row4_col9\" class=\"data row4 col9\" >0</td>\n",
              "      <td id=\"T_5373b_row4_col10\" class=\"data row4 col10\" >0</td>\n",
              "      <td id=\"T_5373b_row4_col11\" class=\"data row4 col11\" >23.000000</td>\n",
              "      <td id=\"T_5373b_row4_col12\" class=\"data row4 col12\" >0</td>\n",
              "      <td id=\"T_5373b_row4_col13\" class=\"data row4 col13\" >0</td>\n",
              "      <td id=\"T_5373b_row4_col14\" class=\"data row4 col14\" >1.200000</td>\n",
              "      <td id=\"T_5373b_row4_col15\" class=\"data row4 col15\" >0.000000</td>\n",
              "      <td id=\"T_5373b_row4_col16\" class=\"data row4 col16\" >North</td>\n",
              "      <td id=\"T_5373b_row4_col17\" class=\"data row4 col17\" >nan</td>\n",
              "      <td id=\"T_5373b_row4_col18\" class=\"data row4 col18\" >nan</td>\n",
              "      <td id=\"T_5373b_row4_col19\" class=\"data row4 col19\" >0.000000</td>\n",
              "    </tr>\n",
              "    <tr>\n",
              "      <th id=\"T_5373b_level0_row5\" class=\"row_heading level0 row5\" >5</th>\n",
              "      <td id=\"T_5373b_row5_col0\" class=\"data row5 col0\" >19961101-17:00</td>\n",
              "      <td id=\"T_5373b_row5_col1\" class=\"data row5 col1\" >Smoke</td>\n",
              "      <td id=\"T_5373b_row5_col2\" class=\"data row5 col2\" >12.000000</td>\n",
              "      <td id=\"T_5373b_row5_col3\" class=\"data row5 col3\" >0</td>\n",
              "      <td id=\"T_5373b_row5_col4\" class=\"data row5 col4\" >0</td>\n",
              "      <td id=\"T_5373b_row5_col5\" class=\"data row5 col5\" >nan</td>\n",
              "      <td id=\"T_5373b_row5_col6\" class=\"data row5 col6\" >56.000000</td>\n",
              "      <td id=\"T_5373b_row5_col7\" class=\"data row5 col7\" >nan</td>\n",
              "      <td id=\"T_5373b_row5_col8\" class=\"data row5 col8\" >1011.000000</td>\n",
              "      <td id=\"T_5373b_row5_col9\" class=\"data row5 col9\" >0</td>\n",
              "      <td id=\"T_5373b_row5_col10\" class=\"data row5 col10\" >0</td>\n",
              "      <td id=\"T_5373b_row5_col11\" class=\"data row5 col11\" >21.000000</td>\n",
              "      <td id=\"T_5373b_row5_col12\" class=\"data row5 col12\" >0</td>\n",
              "      <td id=\"T_5373b_row5_col13\" class=\"data row5 col13\" >0</td>\n",
              "      <td id=\"T_5373b_row5_col14\" class=\"data row5 col14\" >nan</td>\n",
              "      <td id=\"T_5373b_row5_col15\" class=\"data row5 col15\" >0.000000</td>\n",
              "      <td id=\"T_5373b_row5_col16\" class=\"data row5 col16\" >North</td>\n",
              "      <td id=\"T_5373b_row5_col17\" class=\"data row5 col17\" >nan</td>\n",
              "      <td id=\"T_5373b_row5_col18\" class=\"data row5 col18\" >nan</td>\n",
              "      <td id=\"T_5373b_row5_col19\" class=\"data row5 col19\" >nan</td>\n",
              "    </tr>\n",
              "    <tr>\n",
              "      <th id=\"T_5373b_level0_row6\" class=\"row_heading level0 row6\" >6</th>\n",
              "      <td id=\"T_5373b_row6_col0\" class=\"data row6 col0\" >19961101-18:00</td>\n",
              "      <td id=\"T_5373b_row6_col1\" class=\"data row6 col1\" >Smoke</td>\n",
              "      <td id=\"T_5373b_row6_col2\" class=\"data row6 col2\" >13.000000</td>\n",
              "      <td id=\"T_5373b_row6_col3\" class=\"data row6 col3\" >0</td>\n",
              "      <td id=\"T_5373b_row6_col4\" class=\"data row6 col4\" >0</td>\n",
              "      <td id=\"T_5373b_row6_col5\" class=\"data row6 col5\" >nan</td>\n",
              "      <td id=\"T_5373b_row6_col6\" class=\"data row6 col6\" >60.000000</td>\n",
              "      <td id=\"T_5373b_row6_col7\" class=\"data row6 col7\" >nan</td>\n",
              "      <td id=\"T_5373b_row6_col8\" class=\"data row6 col8\" >1010.000000</td>\n",
              "      <td id=\"T_5373b_row6_col9\" class=\"data row6 col9\" >0</td>\n",
              "      <td id=\"T_5373b_row6_col10\" class=\"data row6 col10\" >0</td>\n",
              "      <td id=\"T_5373b_row6_col11\" class=\"data row6 col11\" >21.000000</td>\n",
              "      <td id=\"T_5373b_row6_col12\" class=\"data row6 col12\" >0</td>\n",
              "      <td id=\"T_5373b_row6_col13\" class=\"data row6 col13\" >0</td>\n",
              "      <td id=\"T_5373b_row6_col14\" class=\"data row6 col14\" >0.800000</td>\n",
              "      <td id=\"T_5373b_row6_col15\" class=\"data row6 col15\" >0.000000</td>\n",
              "      <td id=\"T_5373b_row6_col16\" class=\"data row6 col16\" >North</td>\n",
              "      <td id=\"T_5373b_row6_col17\" class=\"data row6 col17\" >nan</td>\n",
              "      <td id=\"T_5373b_row6_col18\" class=\"data row6 col18\" >nan</td>\n",
              "      <td id=\"T_5373b_row6_col19\" class=\"data row6 col19\" >0.000000</td>\n",
              "    </tr>\n",
              "    <tr>\n",
              "      <th id=\"T_5373b_level0_row7\" class=\"row_heading level0 row7\" >7</th>\n",
              "      <td id=\"T_5373b_row7_col0\" class=\"data row7 col0\" >19961101-19:00</td>\n",
              "      <td id=\"T_5373b_row7_col1\" class=\"data row7 col1\" >Smoke</td>\n",
              "      <td id=\"T_5373b_row7_col2\" class=\"data row7 col2\" >13.000000</td>\n",
              "      <td id=\"T_5373b_row7_col3\" class=\"data row7 col3\" >0</td>\n",
              "      <td id=\"T_5373b_row7_col4\" class=\"data row7 col4\" >0</td>\n",
              "      <td id=\"T_5373b_row7_col5\" class=\"data row7 col5\" >nan</td>\n",
              "      <td id=\"T_5373b_row7_col6\" class=\"data row7 col6\" >60.000000</td>\n",
              "      <td id=\"T_5373b_row7_col7\" class=\"data row7 col7\" >nan</td>\n",
              "      <td id=\"T_5373b_row7_col8\" class=\"data row7 col8\" >-9999.000000</td>\n",
              "      <td id=\"T_5373b_row7_col9\" class=\"data row7 col9\" >0</td>\n",
              "      <td id=\"T_5373b_row7_col10\" class=\"data row7 col10\" >0</td>\n",
              "      <td id=\"T_5373b_row7_col11\" class=\"data row7 col11\" >21.000000</td>\n",
              "      <td id=\"T_5373b_row7_col12\" class=\"data row7 col12\" >0</td>\n",
              "      <td id=\"T_5373b_row7_col13\" class=\"data row7 col13\" >0</td>\n",
              "      <td id=\"T_5373b_row7_col14\" class=\"data row7 col14\" >nan</td>\n",
              "      <td id=\"T_5373b_row7_col15\" class=\"data row7 col15\" >0.000000</td>\n",
              "      <td id=\"T_5373b_row7_col16\" class=\"data row7 col16\" >North</td>\n",
              "      <td id=\"T_5373b_row7_col17\" class=\"data row7 col17\" >nan</td>\n",
              "      <td id=\"T_5373b_row7_col18\" class=\"data row7 col18\" >nan</td>\n",
              "      <td id=\"T_5373b_row7_col19\" class=\"data row7 col19\" >nan</td>\n",
              "    </tr>\n",
              "    <tr>\n",
              "      <th id=\"T_5373b_level0_row8\" class=\"row_heading level0 row8\" >8</th>\n",
              "      <td id=\"T_5373b_row8_col0\" class=\"data row8 col0\" >19961101-20:00</td>\n",
              "      <td id=\"T_5373b_row8_col1\" class=\"data row8 col1\" >Smoke</td>\n",
              "      <td id=\"T_5373b_row8_col2\" class=\"data row8 col2\" >13.000000</td>\n",
              "      <td id=\"T_5373b_row8_col3\" class=\"data row8 col3\" >0</td>\n",
              "      <td id=\"T_5373b_row8_col4\" class=\"data row8 col4\" >0</td>\n",
              "      <td id=\"T_5373b_row8_col5\" class=\"data row8 col5\" >nan</td>\n",
              "      <td id=\"T_5373b_row8_col6\" class=\"data row8 col6\" >68.000000</td>\n",
              "      <td id=\"T_5373b_row8_col7\" class=\"data row8 col7\" >nan</td>\n",
              "      <td id=\"T_5373b_row8_col8\" class=\"data row8 col8\" >-9999.000000</td>\n",
              "      <td id=\"T_5373b_row8_col9\" class=\"data row8 col9\" >0</td>\n",
              "      <td id=\"T_5373b_row8_col10\" class=\"data row8 col10\" >0</td>\n",
              "      <td id=\"T_5373b_row8_col11\" class=\"data row8 col11\" >19.000000</td>\n",
              "      <td id=\"T_5373b_row8_col12\" class=\"data row8 col12\" >0</td>\n",
              "      <td id=\"T_5373b_row8_col13\" class=\"data row8 col13\" >0</td>\n",
              "      <td id=\"T_5373b_row8_col14\" class=\"data row8 col14\" >nan</td>\n",
              "      <td id=\"T_5373b_row8_col15\" class=\"data row8 col15\" >0.000000</td>\n",
              "      <td id=\"T_5373b_row8_col16\" class=\"data row8 col16\" >North</td>\n",
              "      <td id=\"T_5373b_row8_col17\" class=\"data row8 col17\" >nan</td>\n",
              "      <td id=\"T_5373b_row8_col18\" class=\"data row8 col18\" >nan</td>\n",
              "      <td id=\"T_5373b_row8_col19\" class=\"data row8 col19\" >nan</td>\n",
              "    </tr>\n",
              "    <tr>\n",
              "      <th id=\"T_5373b_level0_row9\" class=\"row_heading level0 row9\" >9</th>\n",
              "      <td id=\"T_5373b_row9_col0\" class=\"data row9 col0\" >19961101-21:00</td>\n",
              "      <td id=\"T_5373b_row9_col1\" class=\"data row9 col1\" >Smoke</td>\n",
              "      <td id=\"T_5373b_row9_col2\" class=\"data row9 col2\" >13.000000</td>\n",
              "      <td id=\"T_5373b_row9_col3\" class=\"data row9 col3\" >0</td>\n",
              "      <td id=\"T_5373b_row9_col4\" class=\"data row9 col4\" >0</td>\n",
              "      <td id=\"T_5373b_row9_col5\" class=\"data row9 col5\" >nan</td>\n",
              "      <td id=\"T_5373b_row9_col6\" class=\"data row9 col6\" >68.000000</td>\n",
              "      <td id=\"T_5373b_row9_col7\" class=\"data row9 col7\" >nan</td>\n",
              "      <td id=\"T_5373b_row9_col8\" class=\"data row9 col8\" >1010.000000</td>\n",
              "      <td id=\"T_5373b_row9_col9\" class=\"data row9 col9\" >0</td>\n",
              "      <td id=\"T_5373b_row9_col10\" class=\"data row9 col10\" >0</td>\n",
              "      <td id=\"T_5373b_row9_col11\" class=\"data row9 col11\" >19.000000</td>\n",
              "      <td id=\"T_5373b_row9_col12\" class=\"data row9 col12\" >0</td>\n",
              "      <td id=\"T_5373b_row9_col13\" class=\"data row9 col13\" >0</td>\n",
              "      <td id=\"T_5373b_row9_col14\" class=\"data row9 col14\" >nan</td>\n",
              "      <td id=\"T_5373b_row9_col15\" class=\"data row9 col15\" >0.000000</td>\n",
              "      <td id=\"T_5373b_row9_col16\" class=\"data row9 col16\" >North</td>\n",
              "      <td id=\"T_5373b_row9_col17\" class=\"data row9 col17\" >nan</td>\n",
              "      <td id=\"T_5373b_row9_col18\" class=\"data row9 col18\" >nan</td>\n",
              "      <td id=\"T_5373b_row9_col19\" class=\"data row9 col19\" >nan</td>\n",
              "    </tr>\n",
              "  </tbody>\n",
              "</table>\n"
            ]
          },
          "metadata": {},
          "execution_count": 7
        }
      ]
    },
    {
      "cell_type": "code",
      "source": [
        "# Menampilkan informasi dasar tentang DataFrame\n",
        "print(\"\\033[1mDataFrame Information:\\033[0m\")\n",
        "df.info()\n",
        "\n",
        "# Menampilkan jumlah nilai nol di setiap kolom\n",
        "print(\"\\n\\033[1mNull Value Summary:\\033[0m\")\n",
        "null_summary = df.isnull().sum().to_frame(name='Null Count').sort_values(by='Null Count', ascending=False)\n",
        "null_summary.style.set_properties(**{'background-color': 'lightcoral',\n",
        "                                     'color': 'black',\n",
        "                                     'border': '1px solid black'})"
      ],
      "metadata": {
        "colab": {
          "base_uri": "https://localhost:8080/",
          "height": 1000
        },
        "id": "jh-q0zhiCodt",
        "outputId": "ae929d38-0824-4c21-f555-d97e39538cc6"
      },
      "execution_count": 9,
      "outputs": [
        {
          "output_type": "stream",
          "name": "stdout",
          "text": [
            "\u001b[1mDataFrame Information:\u001b[0m\n",
            "<class 'pandas.core.frame.DataFrame'>\n",
            "RangeIndex: 100990 entries, 0 to 100989\n",
            "Data columns (total 20 columns):\n",
            " #   Column        Non-Null Count   Dtype  \n",
            "---  ------        --------------   -----  \n",
            " 0   datetime_utc  100990 non-null  object \n",
            " 1    _conds       100918 non-null  object \n",
            " 2    _dewptm      100369 non-null  float64\n",
            " 3    _fog         100990 non-null  int64  \n",
            " 4    _hail        100990 non-null  int64  \n",
            " 5    _heatindexm  29155 non-null   float64\n",
            " 6    _hum         100233 non-null  float64\n",
            " 7    _precipm     0 non-null       float64\n",
            " 8    _pressurem   100758 non-null  float64\n",
            " 9    _rain        100990 non-null  int64  \n",
            " 10   _snow        100990 non-null  int64  \n",
            " 11   _tempm       100317 non-null  float64\n",
            " 12   _thunder     100990 non-null  int64  \n",
            " 13   _tornado     100990 non-null  int64  \n",
            " 14   _vism        96562 non-null   float64\n",
            " 15   _wdird       86235 non-null   float64\n",
            " 16   _wdire       86235 non-null   object \n",
            " 17   _wgustm      1072 non-null    float64\n",
            " 18   _windchillm  579 non-null     float64\n",
            " 19   _wspdm       98632 non-null   float64\n",
            "dtypes: float64(11), int64(6), object(3)\n",
            "memory usage: 15.4+ MB\n",
            "\n",
            "\u001b[1mNull Value Summary:\u001b[0m\n"
          ]
        },
        {
          "output_type": "execute_result",
          "data": {
            "text/plain": [
              "<pandas.io.formats.style.Styler at 0x785e5bf79ea0>"
            ],
            "text/html": [
              "<style type=\"text/css\">\n",
              "#T_1f6ae_row0_col0, #T_1f6ae_row1_col0, #T_1f6ae_row2_col0, #T_1f6ae_row3_col0, #T_1f6ae_row4_col0, #T_1f6ae_row5_col0, #T_1f6ae_row6_col0, #T_1f6ae_row7_col0, #T_1f6ae_row8_col0, #T_1f6ae_row9_col0, #T_1f6ae_row10_col0, #T_1f6ae_row11_col0, #T_1f6ae_row12_col0, #T_1f6ae_row13_col0, #T_1f6ae_row14_col0, #T_1f6ae_row15_col0, #T_1f6ae_row16_col0, #T_1f6ae_row17_col0, #T_1f6ae_row18_col0, #T_1f6ae_row19_col0 {\n",
              "  background-color: lightcoral;\n",
              "  color: black;\n",
              "  border: 1px solid black;\n",
              "}\n",
              "</style>\n",
              "<table id=\"T_1f6ae\" class=\"dataframe\">\n",
              "  <thead>\n",
              "    <tr>\n",
              "      <th class=\"blank level0\" >&nbsp;</th>\n",
              "      <th id=\"T_1f6ae_level0_col0\" class=\"col_heading level0 col0\" >Null Count</th>\n",
              "    </tr>\n",
              "  </thead>\n",
              "  <tbody>\n",
              "    <tr>\n",
              "      <th id=\"T_1f6ae_level0_row0\" class=\"row_heading level0 row0\" > _precipm</th>\n",
              "      <td id=\"T_1f6ae_row0_col0\" class=\"data row0 col0\" >100990</td>\n",
              "    </tr>\n",
              "    <tr>\n",
              "      <th id=\"T_1f6ae_level0_row1\" class=\"row_heading level0 row1\" > _windchillm</th>\n",
              "      <td id=\"T_1f6ae_row1_col0\" class=\"data row1 col0\" >100411</td>\n",
              "    </tr>\n",
              "    <tr>\n",
              "      <th id=\"T_1f6ae_level0_row2\" class=\"row_heading level0 row2\" > _wgustm</th>\n",
              "      <td id=\"T_1f6ae_row2_col0\" class=\"data row2 col0\" >99918</td>\n",
              "    </tr>\n",
              "    <tr>\n",
              "      <th id=\"T_1f6ae_level0_row3\" class=\"row_heading level0 row3\" > _heatindexm</th>\n",
              "      <td id=\"T_1f6ae_row3_col0\" class=\"data row3 col0\" >71835</td>\n",
              "    </tr>\n",
              "    <tr>\n",
              "      <th id=\"T_1f6ae_level0_row4\" class=\"row_heading level0 row4\" > _wdire</th>\n",
              "      <td id=\"T_1f6ae_row4_col0\" class=\"data row4 col0\" >14755</td>\n",
              "    </tr>\n",
              "    <tr>\n",
              "      <th id=\"T_1f6ae_level0_row5\" class=\"row_heading level0 row5\" > _wdird</th>\n",
              "      <td id=\"T_1f6ae_row5_col0\" class=\"data row5 col0\" >14755</td>\n",
              "    </tr>\n",
              "    <tr>\n",
              "      <th id=\"T_1f6ae_level0_row6\" class=\"row_heading level0 row6\" > _vism</th>\n",
              "      <td id=\"T_1f6ae_row6_col0\" class=\"data row6 col0\" >4428</td>\n",
              "    </tr>\n",
              "    <tr>\n",
              "      <th id=\"T_1f6ae_level0_row7\" class=\"row_heading level0 row7\" > _wspdm</th>\n",
              "      <td id=\"T_1f6ae_row7_col0\" class=\"data row7 col0\" >2358</td>\n",
              "    </tr>\n",
              "    <tr>\n",
              "      <th id=\"T_1f6ae_level0_row8\" class=\"row_heading level0 row8\" > _hum</th>\n",
              "      <td id=\"T_1f6ae_row8_col0\" class=\"data row8 col0\" >757</td>\n",
              "    </tr>\n",
              "    <tr>\n",
              "      <th id=\"T_1f6ae_level0_row9\" class=\"row_heading level0 row9\" > _tempm</th>\n",
              "      <td id=\"T_1f6ae_row9_col0\" class=\"data row9 col0\" >673</td>\n",
              "    </tr>\n",
              "    <tr>\n",
              "      <th id=\"T_1f6ae_level0_row10\" class=\"row_heading level0 row10\" > _dewptm</th>\n",
              "      <td id=\"T_1f6ae_row10_col0\" class=\"data row10 col0\" >621</td>\n",
              "    </tr>\n",
              "    <tr>\n",
              "      <th id=\"T_1f6ae_level0_row11\" class=\"row_heading level0 row11\" > _pressurem</th>\n",
              "      <td id=\"T_1f6ae_row11_col0\" class=\"data row11 col0\" >232</td>\n",
              "    </tr>\n",
              "    <tr>\n",
              "      <th id=\"T_1f6ae_level0_row12\" class=\"row_heading level0 row12\" > _conds</th>\n",
              "      <td id=\"T_1f6ae_row12_col0\" class=\"data row12 col0\" >72</td>\n",
              "    </tr>\n",
              "    <tr>\n",
              "      <th id=\"T_1f6ae_level0_row13\" class=\"row_heading level0 row13\" >datetime_utc</th>\n",
              "      <td id=\"T_1f6ae_row13_col0\" class=\"data row13 col0\" >0</td>\n",
              "    </tr>\n",
              "    <tr>\n",
              "      <th id=\"T_1f6ae_level0_row14\" class=\"row_heading level0 row14\" > _tornado</th>\n",
              "      <td id=\"T_1f6ae_row14_col0\" class=\"data row14 col0\" >0</td>\n",
              "    </tr>\n",
              "    <tr>\n",
              "      <th id=\"T_1f6ae_level0_row15\" class=\"row_heading level0 row15\" > _thunder</th>\n",
              "      <td id=\"T_1f6ae_row15_col0\" class=\"data row15 col0\" >0</td>\n",
              "    </tr>\n",
              "    <tr>\n",
              "      <th id=\"T_1f6ae_level0_row16\" class=\"row_heading level0 row16\" > _rain</th>\n",
              "      <td id=\"T_1f6ae_row16_col0\" class=\"data row16 col0\" >0</td>\n",
              "    </tr>\n",
              "    <tr>\n",
              "      <th id=\"T_1f6ae_level0_row17\" class=\"row_heading level0 row17\" > _hail</th>\n",
              "      <td id=\"T_1f6ae_row17_col0\" class=\"data row17 col0\" >0</td>\n",
              "    </tr>\n",
              "    <tr>\n",
              "      <th id=\"T_1f6ae_level0_row18\" class=\"row_heading level0 row18\" > _fog</th>\n",
              "      <td id=\"T_1f6ae_row18_col0\" class=\"data row18 col0\" >0</td>\n",
              "    </tr>\n",
              "    <tr>\n",
              "      <th id=\"T_1f6ae_level0_row19\" class=\"row_heading level0 row19\" > _snow</th>\n",
              "      <td id=\"T_1f6ae_row19_col0\" class=\"data row19 col0\" >0</td>\n",
              "    </tr>\n",
              "  </tbody>\n",
              "</table>\n"
            ]
          },
          "metadata": {},
          "execution_count": 9
        }
      ]
    },
    {
      "cell_type": "code",
      "source": [
        "# Konversi kolom 'datetime_utc' ke tipe data datetime\n",
        "df['datetime_utc'] = pd.to_datetime(df['datetime_utc'])\n",
        "\n",
        "# Tampilkan lima baris pertama dari kolom 'datetime_utc'\n",
        "df['datetime_utc'].head()\n",
        "\n",
        "# Isi nilai-nilai kosong (NaN) dalam kolom '_tempm' dengan nilai rata-rata\n",
        "df[' _tempm'].fillna(df[' _tempm'].mean(), inplace=True)\n",
        "\n",
        "# Pilih hanya kolom 'datetime_utc' dan '_tempm' dalam DataFrame\n",
        "df = df[['datetime_utc', ' _tempm' ]]\n",
        "\n",
        "# Tampilkan sepuluh baris pertama dari DataFrame yang telah dimodifikasi\n",
        "df.head(10)\n"
      ],
      "metadata": {
        "colab": {
          "base_uri": "https://localhost:8080/",
          "height": 363
        },
        "id": "6_FGstPnCsNT",
        "outputId": "056a8fd9-a834-4238-9d42-6db487485ade"
      },
      "execution_count": 20,
      "outputs": [
        {
          "output_type": "execute_result",
          "data": {
            "text/plain": [
              "         datetime_utc   _tempm\n",
              "0 1996-11-01 11:00:00     30.0\n",
              "1 1996-11-01 12:00:00     28.0\n",
              "2 1996-11-01 13:00:00     24.0\n",
              "3 1996-11-01 14:00:00     24.0\n",
              "4 1996-11-01 16:00:00     23.0\n",
              "5 1996-11-01 17:00:00     21.0\n",
              "6 1996-11-01 18:00:00     21.0\n",
              "7 1996-11-01 19:00:00     21.0\n",
              "8 1996-11-01 20:00:00     19.0\n",
              "9 1996-11-01 21:00:00     19.0"
            ],
            "text/html": [
              "\n",
              "  <div id=\"df-bc5103b1-af32-4ef7-9e36-07466f1a79e7\" class=\"colab-df-container\">\n",
              "    <div>\n",
              "<style scoped>\n",
              "    .dataframe tbody tr th:only-of-type {\n",
              "        vertical-align: middle;\n",
              "    }\n",
              "\n",
              "    .dataframe tbody tr th {\n",
              "        vertical-align: top;\n",
              "    }\n",
              "\n",
              "    .dataframe thead th {\n",
              "        text-align: right;\n",
              "    }\n",
              "</style>\n",
              "<table border=\"1\" class=\"dataframe\">\n",
              "  <thead>\n",
              "    <tr style=\"text-align: right;\">\n",
              "      <th></th>\n",
              "      <th>datetime_utc</th>\n",
              "      <th>_tempm</th>\n",
              "    </tr>\n",
              "  </thead>\n",
              "  <tbody>\n",
              "    <tr>\n",
              "      <th>0</th>\n",
              "      <td>1996-11-01 11:00:00</td>\n",
              "      <td>30.0</td>\n",
              "    </tr>\n",
              "    <tr>\n",
              "      <th>1</th>\n",
              "      <td>1996-11-01 12:00:00</td>\n",
              "      <td>28.0</td>\n",
              "    </tr>\n",
              "    <tr>\n",
              "      <th>2</th>\n",
              "      <td>1996-11-01 13:00:00</td>\n",
              "      <td>24.0</td>\n",
              "    </tr>\n",
              "    <tr>\n",
              "      <th>3</th>\n",
              "      <td>1996-11-01 14:00:00</td>\n",
              "      <td>24.0</td>\n",
              "    </tr>\n",
              "    <tr>\n",
              "      <th>4</th>\n",
              "      <td>1996-11-01 16:00:00</td>\n",
              "      <td>23.0</td>\n",
              "    </tr>\n",
              "    <tr>\n",
              "      <th>5</th>\n",
              "      <td>1996-11-01 17:00:00</td>\n",
              "      <td>21.0</td>\n",
              "    </tr>\n",
              "    <tr>\n",
              "      <th>6</th>\n",
              "      <td>1996-11-01 18:00:00</td>\n",
              "      <td>21.0</td>\n",
              "    </tr>\n",
              "    <tr>\n",
              "      <th>7</th>\n",
              "      <td>1996-11-01 19:00:00</td>\n",
              "      <td>21.0</td>\n",
              "    </tr>\n",
              "    <tr>\n",
              "      <th>8</th>\n",
              "      <td>1996-11-01 20:00:00</td>\n",
              "      <td>19.0</td>\n",
              "    </tr>\n",
              "    <tr>\n",
              "      <th>9</th>\n",
              "      <td>1996-11-01 21:00:00</td>\n",
              "      <td>19.0</td>\n",
              "    </tr>\n",
              "  </tbody>\n",
              "</table>\n",
              "</div>\n",
              "    <div class=\"colab-df-buttons\">\n",
              "\n",
              "  <div class=\"colab-df-container\">\n",
              "    <button class=\"colab-df-convert\" onclick=\"convertToInteractive('df-bc5103b1-af32-4ef7-9e36-07466f1a79e7')\"\n",
              "            title=\"Convert this dataframe to an interactive table.\"\n",
              "            style=\"display:none;\">\n",
              "\n",
              "  <svg xmlns=\"http://www.w3.org/2000/svg\" height=\"24px\" viewBox=\"0 -960 960 960\">\n",
              "    <path d=\"M120-120v-720h720v720H120Zm60-500h600v-160H180v160Zm220 220h160v-160H400v160Zm0 220h160v-160H400v160ZM180-400h160v-160H180v160Zm440 0h160v-160H620v160ZM180-180h160v-160H180v160Zm440 0h160v-160H620v160Z\"/>\n",
              "  </svg>\n",
              "    </button>\n",
              "\n",
              "  <style>\n",
              "    .colab-df-container {\n",
              "      display:flex;\n",
              "      gap: 12px;\n",
              "    }\n",
              "\n",
              "    .colab-df-convert {\n",
              "      background-color: #E8F0FE;\n",
              "      border: none;\n",
              "      border-radius: 50%;\n",
              "      cursor: pointer;\n",
              "      display: none;\n",
              "      fill: #1967D2;\n",
              "      height: 32px;\n",
              "      padding: 0 0 0 0;\n",
              "      width: 32px;\n",
              "    }\n",
              "\n",
              "    .colab-df-convert:hover {\n",
              "      background-color: #E2EBFA;\n",
              "      box-shadow: 0px 1px 2px rgba(60, 64, 67, 0.3), 0px 1px 3px 1px rgba(60, 64, 67, 0.15);\n",
              "      fill: #174EA6;\n",
              "    }\n",
              "\n",
              "    .colab-df-buttons div {\n",
              "      margin-bottom: 4px;\n",
              "    }\n",
              "\n",
              "    [theme=dark] .colab-df-convert {\n",
              "      background-color: #3B4455;\n",
              "      fill: #D2E3FC;\n",
              "    }\n",
              "\n",
              "    [theme=dark] .colab-df-convert:hover {\n",
              "      background-color: #434B5C;\n",
              "      box-shadow: 0px 1px 3px 1px rgba(0, 0, 0, 0.15);\n",
              "      filter: drop-shadow(0px 1px 2px rgba(0, 0, 0, 0.3));\n",
              "      fill: #FFFFFF;\n",
              "    }\n",
              "  </style>\n",
              "\n",
              "    <script>\n",
              "      const buttonEl =\n",
              "        document.querySelector('#df-bc5103b1-af32-4ef7-9e36-07466f1a79e7 button.colab-df-convert');\n",
              "      buttonEl.style.display =\n",
              "        google.colab.kernel.accessAllowed ? 'block' : 'none';\n",
              "\n",
              "      async function convertToInteractive(key) {\n",
              "        const element = document.querySelector('#df-bc5103b1-af32-4ef7-9e36-07466f1a79e7');\n",
              "        const dataTable =\n",
              "          await google.colab.kernel.invokeFunction('convertToInteractive',\n",
              "                                                    [key], {});\n",
              "        if (!dataTable) return;\n",
              "\n",
              "        const docLinkHtml = 'Like what you see? Visit the ' +\n",
              "          '<a target=\"_blank\" href=https://colab.research.google.com/notebooks/data_table.ipynb>data table notebook</a>'\n",
              "          + ' to learn more about interactive tables.';\n",
              "        element.innerHTML = '';\n",
              "        dataTable['output_type'] = 'display_data';\n",
              "        await google.colab.output.renderOutput(dataTable, element);\n",
              "        const docLink = document.createElement('div');\n",
              "        docLink.innerHTML = docLinkHtml;\n",
              "        element.appendChild(docLink);\n",
              "      }\n",
              "    </script>\n",
              "  </div>\n",
              "\n",
              "\n",
              "<div id=\"df-52cd7d72-2c51-4c75-952a-fafb96e5dd48\">\n",
              "  <button class=\"colab-df-quickchart\" onclick=\"quickchart('df-52cd7d72-2c51-4c75-952a-fafb96e5dd48')\"\n",
              "            title=\"Suggest charts\"\n",
              "            style=\"display:none;\">\n",
              "\n",
              "<svg xmlns=\"http://www.w3.org/2000/svg\" height=\"24px\"viewBox=\"0 0 24 24\"\n",
              "     width=\"24px\">\n",
              "    <g>\n",
              "        <path d=\"M19 3H5c-1.1 0-2 .9-2 2v14c0 1.1.9 2 2 2h14c1.1 0 2-.9 2-2V5c0-1.1-.9-2-2-2zM9 17H7v-7h2v7zm4 0h-2V7h2v10zm4 0h-2v-4h2v4z\"/>\n",
              "    </g>\n",
              "</svg>\n",
              "  </button>\n",
              "\n",
              "<style>\n",
              "  .colab-df-quickchart {\n",
              "      --bg-color: #E8F0FE;\n",
              "      --fill-color: #1967D2;\n",
              "      --hover-bg-color: #E2EBFA;\n",
              "      --hover-fill-color: #174EA6;\n",
              "      --disabled-fill-color: #AAA;\n",
              "      --disabled-bg-color: #DDD;\n",
              "  }\n",
              "\n",
              "  [theme=dark] .colab-df-quickchart {\n",
              "      --bg-color: #3B4455;\n",
              "      --fill-color: #D2E3FC;\n",
              "      --hover-bg-color: #434B5C;\n",
              "      --hover-fill-color: #FFFFFF;\n",
              "      --disabled-bg-color: #3B4455;\n",
              "      --disabled-fill-color: #666;\n",
              "  }\n",
              "\n",
              "  .colab-df-quickchart {\n",
              "    background-color: var(--bg-color);\n",
              "    border: none;\n",
              "    border-radius: 50%;\n",
              "    cursor: pointer;\n",
              "    display: none;\n",
              "    fill: var(--fill-color);\n",
              "    height: 32px;\n",
              "    padding: 0;\n",
              "    width: 32px;\n",
              "  }\n",
              "\n",
              "  .colab-df-quickchart:hover {\n",
              "    background-color: var(--hover-bg-color);\n",
              "    box-shadow: 0 1px 2px rgba(60, 64, 67, 0.3), 0 1px 3px 1px rgba(60, 64, 67, 0.15);\n",
              "    fill: var(--button-hover-fill-color);\n",
              "  }\n",
              "\n",
              "  .colab-df-quickchart-complete:disabled,\n",
              "  .colab-df-quickchart-complete:disabled:hover {\n",
              "    background-color: var(--disabled-bg-color);\n",
              "    fill: var(--disabled-fill-color);\n",
              "    box-shadow: none;\n",
              "  }\n",
              "\n",
              "  .colab-df-spinner {\n",
              "    border: 2px solid var(--fill-color);\n",
              "    border-color: transparent;\n",
              "    border-bottom-color: var(--fill-color);\n",
              "    animation:\n",
              "      spin 1s steps(1) infinite;\n",
              "  }\n",
              "\n",
              "  @keyframes spin {\n",
              "    0% {\n",
              "      border-color: transparent;\n",
              "      border-bottom-color: var(--fill-color);\n",
              "      border-left-color: var(--fill-color);\n",
              "    }\n",
              "    20% {\n",
              "      border-color: transparent;\n",
              "      border-left-color: var(--fill-color);\n",
              "      border-top-color: var(--fill-color);\n",
              "    }\n",
              "    30% {\n",
              "      border-color: transparent;\n",
              "      border-left-color: var(--fill-color);\n",
              "      border-top-color: var(--fill-color);\n",
              "      border-right-color: var(--fill-color);\n",
              "    }\n",
              "    40% {\n",
              "      border-color: transparent;\n",
              "      border-right-color: var(--fill-color);\n",
              "      border-top-color: var(--fill-color);\n",
              "    }\n",
              "    60% {\n",
              "      border-color: transparent;\n",
              "      border-right-color: var(--fill-color);\n",
              "    }\n",
              "    80% {\n",
              "      border-color: transparent;\n",
              "      border-right-color: var(--fill-color);\n",
              "      border-bottom-color: var(--fill-color);\n",
              "    }\n",
              "    90% {\n",
              "      border-color: transparent;\n",
              "      border-bottom-color: var(--fill-color);\n",
              "    }\n",
              "  }\n",
              "</style>\n",
              "\n",
              "  <script>\n",
              "    async function quickchart(key) {\n",
              "      const quickchartButtonEl =\n",
              "        document.querySelector('#' + key + ' button');\n",
              "      quickchartButtonEl.disabled = true;  // To prevent multiple clicks.\n",
              "      quickchartButtonEl.classList.add('colab-df-spinner');\n",
              "      try {\n",
              "        const charts = await google.colab.kernel.invokeFunction(\n",
              "            'suggestCharts', [key], {});\n",
              "      } catch (error) {\n",
              "        console.error('Error during call to suggestCharts:', error);\n",
              "      }\n",
              "      quickchartButtonEl.classList.remove('colab-df-spinner');\n",
              "      quickchartButtonEl.classList.add('colab-df-quickchart-complete');\n",
              "    }\n",
              "    (() => {\n",
              "      let quickchartButtonEl =\n",
              "        document.querySelector('#df-52cd7d72-2c51-4c75-952a-fafb96e5dd48 button');\n",
              "      quickchartButtonEl.style.display =\n",
              "        google.colab.kernel.accessAllowed ? 'block' : 'none';\n",
              "    })();\n",
              "  </script>\n",
              "</div>\n",
              "    </div>\n",
              "  </div>\n"
            ]
          },
          "metadata": {},
          "execution_count": 20
        }
      ]
    },
    {
      "cell_type": "code",
      "source": [
        "class CustomDataFrameInfo:\n",
        "    def __init__(self, dataframe):\n",
        "        self.dataframe = dataframe\n",
        "\n",
        "    def custom_info(self):\n",
        "        print(\"Custom Information:\")\n",
        "        print(f\"Number of rows: {len(self.dataframe)}\")\n",
        "        print(f\"Number of columns: {len(self.dataframe.columns)}\")\n",
        "        print(\"\\nData Types:\")\n",
        "        print(self.dataframe.dtypes)\n",
        "\n",
        "# Membuat instance dari kelas CustomDataFrameInfo\n",
        "custom_info_df = CustomDataFrameInfo(df)\n",
        "\n",
        "# Memanggil metode custom_info() untuk menampilkan informasi kustom\n",
        "custom_info_df.custom_info()\n"
      ],
      "metadata": {
        "colab": {
          "base_uri": "https://localhost:8080/"
        },
        "id": "MQyTrDYXEi2y",
        "outputId": "507d1017-e3cd-488a-f005-813478b3d9d5"
      },
      "execution_count": 22,
      "outputs": [
        {
          "output_type": "stream",
          "name": "stdout",
          "text": [
            "Custom Information:\n",
            "Number of rows: 100990\n",
            "Number of columns: 2\n",
            "\n",
            "Data Types:\n",
            "datetime_utc    datetime64[ns]\n",
            " _tempm                float64\n",
            "dtype: object\n"
          ]
        }
      ]
    },
    {
      "cell_type": "markdown",
      "source": [
        "*Proses Modeling dan Plot*"
      ],
      "metadata": {
        "id": "Zlr7HgKQFwp8"
      }
    },
    {
      "cell_type": "code",
      "source": [
        "import pandas as pd\n",
        "\n",
        "\n",
        "new_delhi = df[['datetime_utc', ' _tempm']].copy()\n",
        "\n",
        "# Menambahkan kolom 'just_date' yang berisi tanggal\n",
        "new_delhi['just_date'] = new_delhi['datetime_utc'].dt.date\n",
        "\n",
        "# Membuat DataFrame baru tanpa kolom 'datetime_utc'\n",
        "new_delhi_final = new_delhi.drop('datetime_utc', axis=1)\n",
        "\n",
        "# Mengatur 'just_date' sebagai indeks\n",
        "new_delhi_final.set_index('just_date', inplace=True)\n",
        "\n",
        "# Menampilkan pesan kustom\n",
        "print(\"Kolom 'datetime_utc' dihapus, dan 'just_date' dijadikan indeks.\")\n",
        "print(\"Hasil DataFrame:\")\n",
        "print(new_delhi_final.head())\n"
      ],
      "metadata": {
        "colab": {
          "base_uri": "https://localhost:8080/"
        },
        "id": "VhYS8Nx1Fih7",
        "outputId": "969cada4-e04c-4876-c8f3-f81b589a1ccf"
      },
      "execution_count": 24,
      "outputs": [
        {
          "output_type": "stream",
          "name": "stdout",
          "text": [
            "Kolom 'datetime_utc' dihapus, dan 'just_date' dijadikan indeks.\n",
            "Hasil DataFrame:\n",
            "             _tempm\n",
            "just_date          \n",
            "1996-11-01     30.0\n",
            "1996-11-01     28.0\n",
            "1996-11-01     24.0\n",
            "1996-11-01     24.0\n",
            "1996-11-01     23.0\n"
          ]
        }
      ]
    },
    {
      "cell_type": "code",
      "source": [
        "new_delhi_final.info()\n"
      ],
      "metadata": {
        "colab": {
          "base_uri": "https://localhost:8080/"
        },
        "id": "xlvQrkniGDs0",
        "outputId": "d89b702e-62d7-42e7-baff-cf7a78736df3"
      },
      "execution_count": 27,
      "outputs": [
        {
          "output_type": "stream",
          "name": "stdout",
          "text": [
            "<class 'pandas.core.frame.DataFrame'>\n",
            "Index: 100990 entries, 1996-11-01 to 2017-04-24\n",
            "Data columns (total 1 columns):\n",
            " #   Column   Non-Null Count   Dtype  \n",
            "---  ------   --------------   -----  \n",
            " 0    _tempm  100990 non-null  float64\n",
            "dtypes: float64(1)\n",
            "memory usage: 1.5+ MB\n"
          ]
        }
      ]
    },
    {
      "cell_type": "code",
      "source": [
        "import matplotlib.pyplot as plt\n",
        "import seaborn as sns  # Menambahkan seaborn untuk gaya yang lebih menarik\n",
        "\n",
        "# Data baru (contoh)\n",
        "dates = ['2024-01-01', '2024-01-02', '2024-01-03', '2024-01-04', '2024-01-05']\n",
        "new_delhi_final = [20, 22, 18, 25, 23]\n",
        "\n",
        "# Plotting dengan gaya seaborn\n",
        "sns.set(style=\"whitegrid\")  # Mengatur gaya latar belakang\n",
        "\n",
        "plt.figure(figsize=(14, 6))\n",
        "\n",
        "# Gunakan lineplot untuk tampilan yang lebih modern dan informatif\n",
        "sns.lineplot(x=dates, y=new_delhi_final, marker='o', color='b', label='Temperature')\n",
        "\n",
        "# Menambahkan judul dan label sumbu\n",
        "plt.title('Delhi Weather', fontsize=16)\n",
        "plt.xlabel('Date', fontsize=14)\n",
        "plt.ylabel('Temperature', fontsize=14)\n",
        "\n",
        "# Menambahkan grid untuk memudahkan membaca data\n",
        "plt.grid(True, linestyle='--', alpha=0.7)\n",
        "\n",
        "# Menambahkan label pada titik data\n",
        "for i, txt in enumerate(new_delhi_final):\n",
        "    plt.annotate(f'{txt}°C', (dates[i], new_delhi_final[i]), textcoords=\"offset points\", xytext=(0,10), ha='center')\n",
        "\n",
        "# Menambahkan legenda\n",
        "plt.legend()\n",
        "\n",
        "# Menampilkan plot\n",
        "plt.show()\n"
      ],
      "metadata": {
        "colab": {
          "base_uri": "https://localhost:8080/",
          "height": 576
        },
        "id": "YEW1xSeAGkhY",
        "outputId": "0dddabe9-bf66-4d40-e773-b195a5db53a3"
      },
      "execution_count": 30,
      "outputs": [
        {
          "output_type": "display_data",
          "data": {
            "text/plain": [
              "<Figure size 1400x600 with 1 Axes>"
            ],
            "image/png": "[encoded data removed]"
          },
          "metadata": {}
        }
      ]
    },
    {
      "cell_type": "code",
      "source": [
        "# mengambil data nilai\n",
        "date = df['datetime_utc'].values\n",
        "temp = df[' _tempm'].values"
      ],
      "metadata": {
        "id": "iSxZimt2G-tm"
      },
      "execution_count": 31,
      "outputs": []
    },
    {
      "cell_type": "code",
      "source": [
        "import tensorflow as tf\n",
        "\n",
        "def windowed_dataset(series, window_size, batch_size, shuffle_buffer):\n",
        "    # Menambahkan dimensi tambahan ke series menggunakan tf.expand_dims\n",
        "    series = tf.expand_dims(series, axis=-1)\n",
        "\n",
        "    # Membuat tf.data.Dataset dari series\n",
        "    ds = tf.data.Dataset.from_tensor_slices(series)\n",
        "\n",
        "    # Membagi dataset menjadi jendela berukuran window_size + 1 dengan pergeseran 1\n",
        "    # drop_remainder=True memastikan bahwa jendela terakhir yang mungkin lebih kecil diabaikan\n",
        "    ds = ds.window(window_size + 1, shift=1, drop_remainder=True)\n",
        "\n",
        "    # Mengubah dataset menjadi bentuk flat_map agar dapat diatur sebagai batch\n",
        "    ds = ds.flat_map(lambda w: w.batch(window_size + 1))\n",
        "\n",
        "    # Mengacak dataset menggunakan nilai shuffle_buffer yang diberikan\n",
        "    ds = ds.shuffle(shuffle_buffer)\n",
        "\n",
        "    # Memetakan setiap elemen dataset menjadi pasangan input-output\n",
        "    ds = ds.map(lambda w: (w[:-1], w[-1:]))\n",
        "\n",
        "    # Membuat batch dari dataset dengan ukuran batch_size\n",
        "    # prefetch(1) memungkinkan prefetching satu batch ke depan untuk mempercepat pelatihan\n",
        "    return ds.batch(batch_size).prefetch(1)\n"
      ],
      "metadata": {
        "id": "HzOhg0dSHE_V"
      },
      "execution_count": 32,
      "outputs": []
    },
    {
      "cell_type": "code",
      "source": [
        "from sklearn.model_selection import train_test_split\n",
        "\n",
        "# Membagi dataset menjadi data pelatihan (train) dan data uji (test)\n",
        "# temp adalah fitur atau atribut dataset\n",
        "# date adalah label atau target dataset\n",
        "# test_size=0.2 mengindikasikan bahwa 20% dari data akan digunakan sebagai data uji\n",
        "# random_state=0 memberikan seed untuk pengacakan, sehingga hasilnya dapat direproduksi\n",
        "# shuffle=False memastikan bahwa data tidak diacak sebelum pembagian, menggunakan urutan asli\n",
        "x_train, x_test, y_train, y_test = train_test_split(temp, date, test_size=0.2, random_state=0, shuffle=False)\n",
        "\n",
        "# Mencetak panjang data pelatihan dan data uji\n",
        "print(len(x_train), len(x_test))\n"
      ],
      "metadata": {
        "colab": {
          "base_uri": "https://localhost:8080/"
        },
        "id": "KqdInjY1HexW",
        "outputId": "77a44a65-d32e-4bd8-8406-234fa64aa761"
      },
      "execution_count": 34,
      "outputs": [
        {
          "output_type": "stream",
          "name": "stdout",
          "text": [
            "80792 20198\n"
          ]
        }
      ]
    },
    {
      "cell_type": "code",
      "source": [
        "from keras.layers import Dense, LSTM\n",
        "import tensorflow as tf\n",
        "from tensorflow.keras.optimizers import SGD\n",
        "\n",
        "# Membuat dataset menggunakan fungsi windowed_dataset untuk data pelatihan dan data uji\n",
        "data_x_train = windowed_dataset(x_train, window_size=60, batch_size=100, shuffle_buffer=5000)\n",
        "data_x_test = windowed_dataset(x_test, window_size=60, batch_size=100, shuffle_buffer=5000)\n",
        "\n",
        "# Membuat model menggunakan Sequential API dari Keras\n",
        "model = tf.keras.models.Sequential([\n",
        "    tf.keras.layers.Conv1D(filters=32, kernel_size=5,\n",
        "                           strides=1, padding=\"causal\",\n",
        "                           activation=\"relu\",\n",
        "                           input_shape=[None, 1]),\n",
        "    tf.keras.layers.LSTM(64, return_sequences=True),\n",
        "    tf.keras.layers.LSTM(64, return_sequences=True),\n",
        "    tf.keras.layers.Dense(30, activation=\"relu\"),\n",
        "    tf.keras.layers.Dense(10, activation=\"relu\"),\n",
        "    tf.keras.layers.Dense(1),\n",
        "    tf.keras.layers.Lambda(lambda x: x * 400)\n",
        "])\n",
        "\n",
        "# Membuat schedule untuk learning rate berdasarkan epoch\n",
        "lr_schedule = tf.keras.callbacks.LearningRateScheduler(\n",
        "    lambda epoch: 1e-8 * 10**(epoch / 20))\n",
        "\n",
        "# Menggunakan stochastic gradient descent (SGD) sebagai optimizer\n",
        "optimizer = SGD(learning_rate=1e-8, momentum=0.9)\n",
        "\n",
        "# Mengompilasi model dengan menggunakan fungsi loss Huber dan metric MAE (Mean Absolute Error)\n",
        "model.compile(loss=tf.keras.losses.Huber(),\n",
        "              optimizer=optimizer,\n",
        "              metrics=[\"mae\"])\n",
        "\n",
        "max_value = df[' _tempm'].max()\n",
        "print('Max value : ')\n",
        "print(max_value)\n",
        "\n",
        "min_value = df[' _tempm'].min()\n",
        "print('Min Value : ')\n",
        "print(min_value)\n"
      ],
      "metadata": {
        "colab": {
          "base_uri": "https://localhost:8080/"
        },
        "id": "jNUAKMozH0I5",
        "outputId": "022ceb92-7004-4bb8-99d1-1f697365e117"
      },
      "execution_count": 68,
      "outputs": [
        {
          "output_type": "stream",
          "name": "stdout",
          "text": [
            "Max value : \n",
            "90.0\n",
            "Min Value : \n",
            "1.0\n"
          ]
        }
      ]
    },
    {
      "cell_type": "code",
      "source": [
        "# Menghitung 10% dari selisih antara 90.0 dan 1.0\n",
        "temperature_difference = 90.0 - 1.0\n",
        "percentage = 10\n",
        "result = temperature_difference * (percentage / 100)\n",
        "\n",
        "# Menampilkan hasil perhitungan\n",
        "print(\"10% of the temperature difference between 90.0 and 1.0 is:\", result)\n"
      ],
      "metadata": {
        "colab": {
          "base_uri": "https://localhost:8080/"
        },
        "id": "BiC8gJneH_bf",
        "outputId": "47361c95-33ed-46d5-a76c-fc334d401508"
      },
      "execution_count": 69,
      "outputs": [
        {
          "output_type": "stream",
          "name": "stdout",
          "text": [
            "10% of the temperature difference between 90.0 and 1.0 is: 8.9\n"
          ]
        }
      ]
    },
    {
      "cell_type": "code",
      "source": [
        "# callback\n",
        "class myCallback(tf.keras.callbacks.Callback):\n",
        "  def on_epoch_end(self, epoch, logs={}):\n",
        "    if(logs.get('mae')< x):\n",
        "      self.model.stop_training = True\n",
        "      print(\"\\nMAE of the model < 10% of data scale\")\n",
        "callbacks = myCallback()"
      ],
      "metadata": {
        "id": "8YhkUGMYIWxX"
      },
      "execution_count": 70,
      "outputs": []
    },
    {
      "cell_type": "code",
      "source": [
        "tf.keras.backend.set_floatx('float64')\n",
        "history = model.fit(data_x_train ,epochs=10, validation_data=data_x_test, callbacks=[callbacks])"
      ],
      "metadata": {
        "colab": {
          "base_uri": "https://localhost:8080/"
        },
        "id": "1CpzrQe7RGT4",
        "outputId": "661dc865-99f2-4305-8760-615b9f44983d"
      },
      "execution_count": 71,
      "outputs": [
        {
          "output_type": "stream",
          "name": "stdout",
          "text": [
            "Epoch 1/10\n",
            "808/808 [==============================] - 328s 399ms/step - loss: 25.4868 - mae: 25.9775 - val_loss: 6.5213 - val_mae: 7.0012\n",
            "Epoch 2/10\n",
            "808/808 [==============================] - ETA: 0s - loss: 6.1436 - mae: 6.6214\n",
            "MAE of the model < 10% of data scale\n",
            "808/808 [==============================] - 319s 393ms/step - loss: 6.1436 - mae: 6.6214 - val_loss: 6.0291 - val_mae: 6.5084\n"
          ]
        }
      ]
    },
    {
      "cell_type": "markdown",
      "source": [
        "Visualisasi Loss Model"
      ],
      "metadata": {
        "id": "hl5GjM_TJmCK"
      }
    },
    {
      "cell_type": "code",
      "source": [
        "import matplotlib.pyplot as plt\n",
        "\n",
        "# Melihat gaya plot yang tersedia di Matplotlib\n",
        "plt.style.available\n",
        "plt.style.use('seaborn-darkgrid')  # Anda dapat memilih gaya yang sesuai dengan preferensi Anda\n",
        "\n",
        "# Plot loss dan val_loss dengan warna dan marker yang berbeda\n",
        "plt.plot(history.history['loss'], label='Training Loss', color='blue', marker='o')\n",
        "plt.plot(history.history['val_loss'], label='Validation Loss', color='red', marker='x')\n",
        "\n",
        "# Menambahkan judul dan label sumbu\n",
        "plt.title('Model Loss Over Epochs', fontsize=16)\n",
        "plt.xlabel('Epoch', fontsize=12)\n",
        "plt.ylabel('Loss', fontsize=12)\n",
        "\n",
        "# Menambahkan legenda\n",
        "plt.legend()\n",
        "\n",
        "# Menambahkan grid untuk mempermudah pembacaan grafik\n",
        "plt.grid(True)\n",
        "\n",
        "# Menampilkan plot\n",
        "plt.show()\n"
      ],
      "metadata": {
        "colab": {
          "base_uri": "https://localhost:8080/",
          "height": 525
        },
        "id": "n__wXlclIghQ",
        "outputId": "c9c980a7-876e-4d39-ae90-60c9163c33ff"
      },
      "execution_count": 80,
      "outputs": [
        {
          "output_type": "stream",
          "name": "stderr",
          "text": [
            "<ipython-input-80-442f60bfaf15>:5: MatplotlibDeprecationWarning: The seaborn styles shipped by Matplotlib are deprecated since 3.6, as they no longer correspond to the styles shipped by seaborn. However, they will remain available as 'seaborn-v0_8-<style>'. Alternatively, directly use the seaborn API instead.\n",
            "  plt.style.use('seaborn-darkgrid')  # Anda dapat memilih gaya yang sesuai dengan preferensi Anda\n"
          ]
        },
        {
          "output_type": "display_data",
          "data": {
            "text/plain": [
              "<Figure size 640x480 with 1 Axes>"
            ],
            "image/png": "[encoded data removed]"
          },
          "metadata": {}
        }
      ]
    },
    {
      "cell_type": "markdown",
      "source": [
        "*Visualisasi MAE*"
      ],
      "metadata": {
        "id": "KFYUBktzJZ_4"
      }
    },
    {
      "cell_type": "code",
      "source": [
        "import matplotlib.pyplot as plt\n",
        "\n",
        "# Melihat gaya plot yang tersedia di Matplotlib\n",
        "plt.style.available\n",
        "plt.style.use('seaborn-darkgrid')  # Anda dapat memilih gaya yang sesuai dengan preferensi Anda\n",
        "\n",
        "# Plot mae dan val_mae dengan warna dan marker yang berbeda\n",
        "plt.plot(history.history['mae'], label='Training MAE', color='green', marker='s')\n",
        "plt.plot(history.history['val_mae'], label='Validation MAE', color='orange', marker='^')\n",
        "\n",
        "# Menambahkan judul dan label sumbu\n",
        "plt.title('Mean Absolute Error Over Epochs', fontsize=16)\n",
        "plt.xlabel('Epoch', fontsize=12)\n",
        "plt.ylabel('MAE', fontsize=12)\n",
        "\n",
        "# Menambahkan legenda\n",
        "plt.legend()\n",
        "\n",
        "# Menambahkan grid untuk mempermudah pembacaan grafik\n",
        "plt.grid(True)\n",
        "\n",
        "# Menampilkan plot\n",
        "plt.show()\n",
        "\n"
      ],
      "metadata": {
        "colab": {
          "base_uri": "https://localhost:8080/",
          "height": 525
        },
        "id": "IGxA6-wnb_E1",
        "outputId": "72999443-3e45-4cc6-9857-12a5f0ee7906"
      },
      "execution_count": 81,
      "outputs": [
        {
          "output_type": "stream",
          "name": "stderr",
          "text": [
            "<ipython-input-81-9f796f0dfc24>:5: MatplotlibDeprecationWarning: The seaborn styles shipped by Matplotlib are deprecated since 3.6, as they no longer correspond to the styles shipped by seaborn. However, they will remain available as 'seaborn-v0_8-<style>'. Alternatively, directly use the seaborn API instead.\n",
            "  plt.style.use('seaborn-darkgrid')  # Anda dapat memilih gaya yang sesuai dengan preferensi Anda\n"
          ]
        },
        {
          "output_type": "display_data",
          "data": {
            "text/plain": [
              "<Figure size 640x480 with 1 Axes>"
            ],
            "image/png": "[encoded data removed]"
          },
          "metadata": {}
        }
      ]
    },
    {
      "cell_type": "markdown",
      "source": [],
      "metadata": {
        "id": "zudb-XcbcNFX"
      }
    }
  ]
}